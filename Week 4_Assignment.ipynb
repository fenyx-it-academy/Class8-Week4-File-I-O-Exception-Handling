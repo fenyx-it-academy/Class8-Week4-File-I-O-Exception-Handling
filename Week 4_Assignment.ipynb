{
 "cells": [
  {
   "cell_type": "code",
   "execution_count": 4,
   "metadata": {},
   "outputs": [
    {
     "name": "stdout",
     "output_type": "stream",
     "text": [
      "['a', 'b', 'c', 'd', 'e', 'f', 'g', 'h', 'i', 'j', 'k', 'l', 'm', 'n', 'o', 'p', 'q', 'r', 's', 't', 'u', 'v', 'w', 'x', 'y', 'z']\n",
      "['A', 'B', 'C', 'D', 'E', 'F', 'G', 'H', 'I', 'J', 'K', 'L', 'M', 'N', 'O', 'P', 'Q', 'R', 'S', 'T', 'U', 'V', 'W', 'X', 'Y', 'Z']\n",
      "['A', 'B', 'C', 'D', 'E', 'F', 'G', 'H', 'I', 'J', 'K', 'L', 'M', 'N', 'O', 'P', 'Q', 'R', 'S', 'T', 'U', 'V', 'W', 'X', 'Y', 'Z']\n"
     ]
    }
   ],
   "source": [
    "import string\n",
    "#printing lowercase letters\n",
    "lower = list(string.ascii_lowercase)\n",
    "print(lower)\n",
    "#printing uppercase letters\n",
    "upper = list(string.ascii_uppercase)\n",
    "print(upper)\n",
    "x = list(string.ascii_uppercase)\n",
    "print(x)"
   ]
  },
  {
   "cell_type": "code",
   "execution_count": 3,
   "metadata": {},
   "outputs": [],
   "source": [
    "import string, os\n",
    "if not os.path.exists(\"letters\"):\n",
    "   os.makedirs(\"letters\")\n",
    "for letter in string.ascii_uppercase:\n",
    "   with open(letter + \".txt\", \"w\") as f:\n",
    "       f.writelines(letter)"
   ]
  },
  {
   "cell_type": "code",
   "execution_count": null,
   "metadata": {},
   "outputs": [],
   "source": [
    "x = int(input(\"Please enter a number: \"))\n",
    "while True:\n",
    "    try:\n",
    "        x = input(\"Please enter a number: \")\n",
    "        x = int(n)\n",
    "        break\n",
    "    except ValueError:\n",
    "        print(\"Not a vlaid entry\")\n",
    "\n",
    "def LCM(x, y):\n",
    "    if(x > y):\n",
    "        num = x\n",
    "        den = y\n",
    "    else:\n",
    "        num = y\n",
    "        den = x\n",
    "        rmd = num % den\n",
    "    while(rmd != 0):\n",
    "        num = den\n",
    "        den = num\n",
    "        rmd = num % den\n",
    "    gcd = den\n",
    "    LCM = int(int(x * y))/int(gcd)\n",
    "    return LCM"
   ]
  }
 ],
 "metadata": {
  "kernelspec": {
   "display_name": "Python 3",
   "language": "python",
   "name": "python3"
  },
  "language_info": {
   "codemirror_mode": {
    "name": "ipython",
    "version": 3
   },
   "file_extension": ".py",
   "mimetype": "text/x-python",
   "name": "python",
   "nbconvert_exporter": "python",
   "pygments_lexer": "ipython3",
   "version": "3.11.1"
  },
  "orig_nbformat": 4,
  "vscode": {
   "interpreter": {
    "hash": "9ef3cc2511ae391cc7db93131957300bc18e82857ec78976ef34b5343338933a"
   }
  }
 },
 "nbformat": 4,
 "nbformat_minor": 2
}
